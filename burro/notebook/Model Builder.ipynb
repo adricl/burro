{
 "cells": [
  {
   "cell_type": "code",
   "execution_count": 4,
   "metadata": {},
   "outputs": [],
   "source": [
    "import os\n",
    "import time\n",
    "\n",
    "import numpy as np\n",
    "\n",
    "from keras.models import Model, Sequential, load_model\n",
    "from keras.layers import Input, Activation, Dense, Convolution2D, Dropout, Flatten, BatchNormalization\n",
    "from keras.optimizers import SGD\n",
    "from keras.preprocessing.image import ImageDataGenerator\n",
    "from keras.callbacks import TensorBoard, ReduceLROnPlateau, ModelCheckpoint, EarlyStopping\n",
    "import keras.backend as K\n",
    "\n",
    "import sys\n",
    "# the mock-0.3.1 dir contains testcase.py, testutils.py & mock.py\n",
    "sys.path.append('../burro/')\n",
    "sys.path.append('../burro/trainers')\n",
    "#sys.path.append('/home/wombat/Documents/projects/burro_train/burro-trainer/')\n",
    "#sys.path.append('/home/wombat/Documents/projects/burro_train/burro-trainer/bin')\n",
    "#sys.path.append('/home/wombat/Documents/projects/burro_train/burro-trainer/lib')\n",
    "\n",
    "\n",
    "from config import config\n",
    "import methods; reload(methods)\n",
    "\n",
    "from generators import file_generators; reload(file_generators)\n",
    "import histograms; reload(histograms)\n",
    "import img_pipelines; reload(img_pipelines)\n",
    "\n",
    "\n",
    "offset = 10\n",
    "\n",
    "#gen_batch = 256\n",
    "gen_batch = 64\n",
    "\n",
    "val_batch = 32\n",
    "val_stride = 20\n",
    "\n",
    "dense1 = 100\n",
    "dense2 = 50\n",
    "\n",
    "min_delta = 0.005\n",
    "\n",
    "now = time.strftime(\"%c\")"
   ]
  },
  {
   "cell_type": "code",
   "execution_count": 5,
   "metadata": {},
   "outputs": [],
   "source": [
    "#def train_categorical(data_dir, track, optimizer='adam', patience=10):\n",
    "data_dir = \"/mnt/18C0FB33C0FB162A/data/good_data\"\n",
    "track = \"Test1\"\n",
    "optimizer='adam'\n",
    "patience=10"
   ]
  },
  {
   "cell_type": "code",
   "execution_count": 6,
   "metadata": {},
   "outputs": [
    {
     "name": "stdout",
     "output_type": "stream",
     "text": [
      "[ 801   55   78   53   47   84   64 8438  272  232  214  255  242  257 3415]\n",
      "[-30.   -26.02 -22.04 -18.06 -14.08 -10.1   -6.12  -2.14   1.84   5.82\n",
      "   9.8   13.78  17.76  21.74  25.72  29.7 ]\n",
      "Input shape: (120, 160, 3)\n",
      "/home/wombat/Documents/projects/burro_train/burro-trainer/burro/burro/models\n",
      "Image Count: 29014\n",
      "_________________________________________________________________\n",
      "Layer (type)                 Output Shape              Param #   \n",
      "=================================================================\n",
      "batch_normalization_1 (Batch (None, 120, 160, 3)       480       \n",
      "_________________________________________________________________\n",
      "conv2d_1 (Conv2D)            (None, 58, 78, 24)        1824      \n",
      "_________________________________________________________________\n",
      "batch_normalization_2 (Batch (None, 58, 78, 24)        232       \n",
      "_________________________________________________________________\n",
      "conv2d_2 (Conv2D)            (None, 27, 37, 32)        19232     \n",
      "_________________________________________________________________\n",
      "batch_normalization_3 (Batch (None, 27, 37, 32)        108       \n",
      "_________________________________________________________________\n",
      "conv2d_3 (Conv2D)            (None, 12, 17, 64)        51264     \n",
      "_________________________________________________________________\n",
      "batch_normalization_4 (Batch (None, 12, 17, 64)        48        \n",
      "_________________________________________________________________\n",
      "conv2d_4 (Conv2D)            (None, 5, 8, 64)          36928     \n",
      "_________________________________________________________________\n",
      "batch_normalization_5 (Batch (None, 5, 8, 64)          20        \n",
      "_________________________________________________________________\n",
      "conv2d_5 (Conv2D)            (None, 3, 6, 64)          36928     \n",
      "_________________________________________________________________\n",
      "batch_normalization_6 (Batch (None, 3, 6, 64)          12        \n",
      "_________________________________________________________________\n",
      "flatten_1 (Flatten)          (None, 1152)              0         \n",
      "_________________________________________________________________\n",
      "dense_1 (Dense)              (None, 100)               115300    \n",
      "_________________________________________________________________\n",
      "dropout_1 (Dropout)          (None, 100)               0         \n",
      "_________________________________________________________________\n",
      "dense_2 (Dense)              (None, 50)                5050      \n",
      "_________________________________________________________________\n",
      "dropout_2 (Dropout)          (None, 50)                0         \n",
      "_________________________________________________________________\n",
      "angle_out (Dense)            (None, 15)                765       \n",
      "=================================================================\n",
      "Total params: 268,191\n",
      "Trainable params: 267,741\n",
      "Non-trainable params: 450\n",
      "_________________________________________________________________\n",
      "None\n"
     ]
    }
   ],
   "source": [
    "#Model\n",
    "\n",
    "hist = histograms.angles_histogram(data_dir)\n",
    "print hist[0]\n",
    "print hist[1]\n",
    "\n",
    "input_shape=(config.camera.resolution[1]-config.camera.crop_top - config.camera.crop_bottom, config.camera.resolution[0], 3)\n",
    "print \"Input shape: \" + str(input_shape)\n",
    "\n",
    "models_dir = os.path.abspath(os.path.expanduser(config.training.models_dir))\n",
    "print(models_dir)\n",
    "\n",
    "\n",
    "\n",
    "model_path = os.path.join(models_dir,\n",
    "    'model-' + track + '-' \n",
    "    '-Epoch:{epoch:02d}-Val_loss:{val_loss:.2f}'\n",
    "    '-' + now + '.h5')\n",
    "logs_dir = os.path.abspath(os.path.expanduser(config.training.logs_dir))\n",
    "log_path = os.path.join(logs_dir,\n",
    "track + '/' + optimizer + '-' +\n",
    "str(dense1) + '-' + str(dense2) +\n",
    "'-' + now)\n",
    "\n",
    "methods.create_file(model_path)\n",
    "\n",
    "im_count = file_generators.file_count(data_dir)\n",
    "print \"Image Count: \" + str(im_count)\n",
    "gen = img_pipelines.categorical_pipeline(data_dir, mode='reject_nth',\n",
    "    batch_size=gen_batch, offset=offset)\n",
    "val = img_pipelines.categorical_pipeline(data_dir, mode='accept_nth',\n",
    "    batch_size=val_batch, offset=offset)\n",
    "\n",
    "model = Sequential()\n",
    "model.add(BatchNormalization(axis=1, input_shape=input_shape))\n",
    "model.add(Convolution2D(24, (5, 5), strides=(2, 2), activation='relu'))            \n",
    "model.add(BatchNormalization(axis=1))\n",
    "model.add(Convolution2D(32, (5, 5), strides=(2, 2), activation='relu'))\n",
    "model.add(BatchNormalization(axis=1))\n",
    "model.add(Convolution2D(64, (5, 5), strides=(2, 2), activation='relu'))\n",
    "model.add(BatchNormalization(axis=1))\n",
    "model.add(Convolution2D(64, (3, 3), strides=(2, 2), activation='relu'))\n",
    "model.add(BatchNormalization(axis=1))\n",
    "model.add(Convolution2D(64, (3, 3), strides=(1, 1), activation='relu'))\n",
    "model.add(BatchNormalization(axis=1))\n",
    "model.add(Flatten())\n",
    "model.add(Dense(dense1, activation='relu'))\n",
    "#model.add(BatchNormalization())\n",
    "model.add( Dropout(.5) )\n",
    "model.add(Dense(dense2, activation='relu'))\n",
    "#model.add(BatchNormalization())\n",
    "model.add( Dropout(.5) )\n",
    "model.add(Dense(config.model.output_size, activation='softmax', name='angle_out'))\n",
    "#model.add(Dense(1, activation='relu', name='throttle_out'))\n",
    "model.compile(\n",
    "    optimizer=optimizer, loss={\n",
    "        'angle_out': 'categorical_crossentropy',\n",
    "        #'throttle_out': 'mean_absolute_error'\n",
    "        },\n",
    "        metrics=['accuracy']\n",
    "        #loss_weights={'angle_out': 0.9,\n",
    "        #'throttle_out': .001\n",
    "        #},\n",
    "        )\n",
    "\n",
    "print model.summary()"
   ]
  },
  {
   "cell_type": "code",
   "execution_count": null,
   "metadata": {},
   "outputs": [],
   "source": [
    "#Default Init at 0.001\n",
    "K.set_value(model.optimizer.lr, .0001)"
   ]
  },
  {
   "cell_type": "code",
   "execution_count": null,
   "metadata": {},
   "outputs": [
    {
     "name": "stdout",
     "output_type": "stream",
     "text": [
      "Best model saved in /home/wombat/Documents/projects/burro_train/burro-trainer/burro/burro/models/model-Test1--Epoch:{epoch:02d}-Val_loss:{val_loss:.2f}-Sat Mar 31 00:32:48 2018.h5\n",
      "45\n",
      "Epoch 1/30\n"
     ]
    }
   ],
   "source": [
    "#Traning\n",
    "\n",
    "tb = TensorBoard(log_path)\n",
    "# reduce_lr = ReduceLROnPlateau(monitor='val_loss', factor=0.96,\n",
    "#          patience=2, min_lr=0.0001)\n",
    "model_cp = ModelCheckpoint(model_path, monitor='val_loss', verbose=True, save_best_only=True, mode='min')\n",
    "#e_stop = EarlyStopping(monitor='val_loss', min_delta=min_delta, patience=patience, verbose=True, mode='auto')\n",
    "\n",
    "print \"Best model saved in \" + model_path\n",
    "print (im_count / (val_batch * val_stride))\n",
    "\n",
    "hist = model.fit_generator(gen,\n",
    "                           epochs=30,\n",
    "                           #epochs=60,\n",
    "                           #epochs=5,\n",
    "                           steps_per_epoch=im_count / gen_batch,\n",
    "                           validation_data=val,\n",
    "                           validation_steps=im_count / (val_batch * val_stride),\n",
    "                           verbose=2,\n",
    "                           callbacks=[tb, model_cp])\n",
    "\n",
    "\n"
   ]
  },
  {
   "cell_type": "code",
   "execution_count": null,
   "metadata": {},
   "outputs": [],
   "source": [
    "K.set_value(model.optimizer.lr, .0001)"
   ]
  },
  {
   "cell_type": "code",
   "execution_count": null,
   "metadata": {},
   "outputs": [],
   "source": [
    "hist = model.fit_generator(gen,\n",
    "                           epochs=10,\n",
    "                           \n",
    "                           steps_per_epoch=im_count / gen_batch,\n",
    "                           validation_data=val,\n",
    "                           validation_steps=im_count / (val_batch * val_stride),\n",
    "                           verbose=2,\n",
    "                           callbacks=[tb, model_cp])"
   ]
  },
  {
   "cell_type": "code",
   "execution_count": null,
   "metadata": {},
   "outputs": [],
   "source": [
    "K.set_value(model.optimizer.lr, .00001)"
   ]
  },
  {
   "cell_type": "code",
   "execution_count": null,
   "metadata": {},
   "outputs": [],
   "source": [
    "hist = model.fit_generator(gen,\n",
    "                           epochs=10,\n",
    "                           steps_per_epoch=im_count / gen_batch,\n",
    "                           validation_data=val,\n",
    "                           validation_steps=im_count / (val_batch * val_stride),\n",
    "                           verbose=2,\n",
    "                           callbacks=[tb, model_cp])"
   ]
  },
  {
   "cell_type": "code",
   "execution_count": null,
   "metadata": {},
   "outputs": [],
   "source": [
    "min_val = np.min(hist.history['val_loss'])\n",
    "print \"Best model: \" + str(min_val)\n",
    "print \"Saved in \" + model_path\n",
    "\n",
    "\n",
    "print \"Time \" + time.strftime(\"%c\")\n",
    "#loss: 9.3410 - acc: 0.4205 - val_loss: 8.5987 - val_acc: 0.4665\n",
    "#added Batch Nomalisation loss: 1.0956 - acc: 0.6873 - val_loss: 0.9982 - val_acc: 0.7243\n"
   ]
  },
  {
   "cell_type": "code",
   "execution_count": null,
   "metadata": {},
   "outputs": [],
   "source": [
    "#Validate Models\n",
    "path = '/home/wombat/Documents/projects/models'\n",
    "model = load_model(path + '/model-Test1-adam-100-50-Sun Mar 25 15:14:07 2018 val_loss .17733.h5')"
   ]
  },
  {
   "cell_type": "code",
   "execution_count": null,
   "metadata": {},
   "outputs": [],
   "source": [
    "import glob\n",
    "files = glob.glob(data_dir + '/*')"
   ]
  },
  {
   "cell_type": "code",
   "execution_count": null,
   "metadata": {},
   "outputs": [],
   "source": [
    "#Viewing images from different pipelines to see if the data augmentation is working\n",
    "from matplotlib import pyplot as plt\n",
    "#init Generators\n",
    "view_gen = img_pipelines.categorical_pipeline(data_dir, mode='reject_nth',\n",
    "    batch_size=0, offset=offset)\n",
    "view_val = img_pipelines.categorical_pipeline(data_dir, mode='accept_nth',\n",
    "    batch_size=0, offset=offset)\n",
    "def normalize(arr):\n",
    "    arr=arr.astype('float32')\n",
    "    if arr.max() > 1.0:\n",
    "        arr/=255.0\n",
    "    return arr\n"
   ]
  },
  {
   "cell_type": "code",
   "execution_count": null,
   "metadata": {},
   "outputs": [],
   "source": [
    "#view Auged Data\n",
    "\n",
    "array = view_gen.next()\n",
    "\n",
    "plt.imshow(normalize(array[0]), interpolation='nearest')\n",
    "plt.show()"
   ]
  },
  {
   "cell_type": "code",
   "execution_count": null,
   "metadata": {},
   "outputs": [],
   "source": [
    "#view val\n",
    "\n",
    "array = view_val.next()\n",
    "print array[0]\n",
    "plt.imshow(normalize(array[0]), interpolation='nearest')\n",
    "plt.show()"
   ]
  },
  {
   "cell_type": "code",
   "execution_count": null,
   "metadata": {},
   "outputs": [],
   "source": [
    "#Histogram plot of raw data bins from filename\n",
    "import matplotlib.pyplot as plt\n",
    "angles = []\n",
    "for file in files:\n",
    "    angle = methods.parse_img_filepath(file)\n",
    "    angles.append(angle)\n",
    "\n",
    "print(len(angles))    \n",
    "angles = np.asarray(angles)\n",
    "unique, counts = np.unique(angles, return_counts=True)\n",
    "print (unique)\n",
    "print(counts)\n",
    "plt.hist(angles, bins='auto')  # arguments are passed to np.histogram\n",
    "plt.title(\"Histogram with 'auto' bins\")\n",
    "plt.show()"
   ]
  },
  {
   "cell_type": "code",
   "execution_count": null,
   "metadata": {},
   "outputs": [],
   "source": [
    "#Histogram plot of raw data bins after processing\n",
    "\n",
    "import matplotlib.pyplot as plt\n",
    "gen = img_pipelines.categorical_pipeline(data_dir, mode='reject_nth',\n",
    "    batch_size=0, offset=offset, indefinite=False, val_every=0)\n",
    "\n",
    "angles = []\n",
    "for image in gen:\n",
    "    angles.append(methods.from_one_hot(image[1]))\n",
    "    \n",
    "print('finished loading')\n",
    "angles = np.asarray(angles)\n",
    "print('Count: ' + str(len(angles)))\n",
    "unique, counts = np.unique(angles, return_counts=True)\n",
    "print (unique)\n",
    "print (counts)\n",
    "plt.hist(angles, bins='auto')  # arguments are passed to np.histogram\n",
    "plt.title(\"Histogram with 'auto' bins\")\n",
    "plt.show()\n",
    "    "
   ]
  },
  {
   "cell_type": "code",
   "execution_count": null,
   "metadata": {},
   "outputs": [],
   "source": [
    "#Image with prediction from model\n",
    "from PIL import Image, ImageOps, ImageChops, ImageDraw, ImageFont\n",
    "shuf = np.random.permutation(files)\n",
    "\n",
    "img = Image.open(shuf[0])\n",
    "img_arr = np.array(img)\n",
    "img_arr4 = img_arr[None,:,:,:]\n",
    "pred = model.predict(img_arr4)\n",
    "yaw_pred = methods.from_one_hot(pred)\n",
    "avf = config.model.average_factor\n",
    "yaw = avf * yaw_pred + (1.0 - avf) * yaw_pred\n",
    "\n",
    "from IPython.display import Image, display\n",
    "display(Image(filename = shuf[0]))\n",
    "\n",
    "\n",
    "print (\"Predition:\", methods.yaw_to_angle(yaw))\n",
    "\n",
    "f = shuf[0].split('/')[-1]\n",
    "f = f[:-4] #remove \".jpg\"\n",
    "f = f.split('_')\n",
    "\n",
    "throttle = float(f[3]) * 0.001\n",
    "angle = float(f[5]) * 0.1\n",
    "milliseconds = round(float(f[7]))\n",
    "\n",
    "print(\"Actual: \", angle)"
   ]
  }
 ],
 "metadata": {
  "kernelspec": {
   "display_name": "Python2 (burro_trainer)",
   "language": "python",
   "name": "testenv"
  },
  "language_info": {
   "codemirror_mode": {
    "name": "ipython",
    "version": 2
   },
   "file_extension": ".py",
   "mimetype": "text/x-python",
   "name": "python",
   "nbconvert_exporter": "python",
   "pygments_lexer": "ipython2",
   "version": "2.7.14"
  }
 },
 "nbformat": 4,
 "nbformat_minor": 2
}
